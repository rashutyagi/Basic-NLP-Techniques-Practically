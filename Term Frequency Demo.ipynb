{
 "cells": [
  {
   "cell_type": "code",
   "execution_count": 1,
   "metadata": {},
   "outputs": [],
   "source": [
    "import nltk"
   ]
  },
  {
   "cell_type": "code",
   "execution_count": 2,
   "metadata": {},
   "outputs": [],
   "source": [
    "# run this code to download the resources \n",
    "# nltk.download()"
   ]
  },
  {
   "cell_type": "code",
   "execution_count": 3,
   "metadata": {},
   "outputs": [],
   "source": [
    "from nltk.probability import FreqDist"
   ]
  },
  {
   "cell_type": "code",
   "execution_count": 4,
   "metadata": {},
   "outputs": [],
   "source": [
    "from nltk.corpus import stopwords"
   ]
  },
  {
   "cell_type": "code",
   "execution_count": 5,
   "metadata": {},
   "outputs": [],
   "source": [
    "# removing the words which are not useful for preprocessing \n",
    "\n",
    "stop_words = set(stopwords.words('english'))"
   ]
  },
  {
   "cell_type": "code",
   "execution_count": 6,
   "metadata": {},
   "outputs": [],
   "source": [
    "# reading the sample corpus from nltk only\n",
    "\n",
    "words = nltk.Text(nltk.corpus.gutenberg.words('bryant-stories.txt'))"
   ]
  },
  {
   "cell_type": "code",
   "execution_count": 7,
   "metadata": {},
   "outputs": [],
   "source": [
    "# checking if all the letters are alphabets or not  \n",
    "# The isalpha() methods returns “True” if all characters in the string are alphabets, Otherwise, It returns “False”.\n",
    "\n",
    "words = [word.lower() for word in words if word.isalpha()]"
   ]
  },
  {
   "cell_type": "code",
   "execution_count": 8,
   "metadata": {},
   "outputs": [],
   "source": [
    "# removing the stop words from our text\n",
    "\n",
    "words = [word.lower() for word in words if word not in stop_words]"
   ]
  },
  {
   "cell_type": "code",
   "execution_count": 9,
   "metadata": {},
   "outputs": [],
   "source": [
    "# A frequency distribution records the number of times each outcome of an experiment has occurred.\n",
    "\n",
    "# = ['rashu','vashu','akshat','rashu']\n",
    "#Dist = FreqDist(p)"
   ]
  },
  {
   "cell_type": "code",
   "execution_count": 10,
   "metadata": {},
   "outputs": [],
   "source": [
    "#print(fDist)"
   ]
  },
  {
   "cell_type": "code",
   "execution_count": 11,
   "metadata": {},
   "outputs": [],
   "source": [
    "#for x,v in fDist.most_common(5):\n",
    "    #print(x,v)"
   ]
  },
  {
   "cell_type": "code",
   "execution_count": 12,
   "metadata": {},
   "outputs": [],
   "source": [
    "fDist_words = FreqDist(words)"
   ]
  },
  {
   "cell_type": "code",
   "execution_count": 13,
   "metadata": {},
   "outputs": [
    {
     "data": {
      "text/plain": [
       "3688"
      ]
     },
     "execution_count": 13,
     "metadata": {},
     "output_type": "execute_result"
    }
   ],
   "source": [
    "len(fDist_words)"
   ]
  },
  {
   "cell_type": "code",
   "execution_count": 14,
   "metadata": {},
   "outputs": [
    {
     "name": "stdout",
     "output_type": "stream",
     "text": [
      "21718\n"
     ]
    }
   ],
   "source": [
    "# total words\n",
    "print(len(words))"
   ]
  },
  {
   "cell_type": "code",
   "execution_count": 15,
   "metadata": {},
   "outputs": [
    {
     "name": "stdout",
     "output_type": "stream",
     "text": [
      "3688\n"
     ]
    }
   ],
   "source": [
    "# unique words\n",
    "print(len(set(words)))"
   ]
  },
  {
   "cell_type": "code",
   "execution_count": 16,
   "metadata": {},
   "outputs": [
    {
     "name": "stdout",
     "output_type": "stream",
     "text": [
      "+--------+-----------+\n",
      "|  Word  | Frequency |\n",
      "+--------+-----------+\n",
      "| little |    597    |\n",
      "|  said  |    453    |\n",
      "|  came  |    191    |\n",
      "|  one   |    183    |\n",
      "| could  |    158    |\n",
      "|  king  |    141    |\n",
      "|  went  |    122    |\n",
      "| would  |    112    |\n",
      "| great  |    110    |\n",
      "|  day   |    107    |\n",
      "|  man   |    107    |\n",
      "|  old   |    104    |\n",
      "|  time  |     97    |\n",
      "|  see   |     97    |\n",
      "|  like  |     92    |\n",
      "|  saw   |     92    |\n",
      "|  away  |     91    |\n",
      "| mother |     90    |\n",
      "|  made  |     89    |\n",
      "|  good  |     84    |\n",
      "+--------+-----------+\n"
     ]
    }
   ],
   "source": [
    "# printing the words with corresponding frquency\n",
    "\n",
    "from prettytable import PrettyTable\n",
    "table = PrettyTable()\n",
    "table.field_names = [\"Word\", \"Frequency\"]\n",
    "for x,v in fDist_words.most_common(20):\n",
    "    table.add_row([x,v])\n",
    "print(table)   "
   ]
  },
  {
   "cell_type": "markdown",
   "metadata": {},
   "source": [
    "## Now seeing the above data we cannot say anything because we have not normazlized things to same level hence we will divide every word's frequency with the size of the vocabulory to make things normalized."
   ]
  },
  {
   "cell_type": "code",
   "execution_count": 17,
   "metadata": {},
   "outputs": [
    {
     "name": "stdout",
     "output_type": "stream",
     "text": [
      "+--------+------------------------------+\n",
      "|  Word  | Frequency/Size of vocabulory |\n",
      "+--------+------------------------------+\n",
      "| little |      0.1618763557483731      |\n",
      "|  said  |     0.12283080260303687      |\n",
      "|  came  |     0.05178958785249458      |\n",
      "|  one   |     0.04962039045553145      |\n",
      "| could  |     0.042841648590021694     |\n",
      "|  king  |     0.038232104121475055     |\n",
      "|  went  |     0.03308026030368764      |\n",
      "| would  |     0.03036876355748373      |\n",
      "| great  |     0.02982646420824295      |\n",
      "|  day   |     0.02901301518438178      |\n",
      "|  man   |     0.02901301518438178      |\n",
      "|  old   |     0.028199566160520606     |\n",
      "|  time  |     0.026301518438177875     |\n",
      "|  see   |     0.026301518438177875     |\n",
      "|  like  |     0.024945770065075923     |\n",
      "|  saw   |     0.024945770065075923     |\n",
      "|  away  |     0.02467462039045553      |\n",
      "| mother |     0.02440347071583514      |\n",
      "|  made  |     0.024132321041214752     |\n",
      "|  good  |      0.0227765726681128      |\n",
      "+--------+------------------------------+\n"
     ]
    }
   ],
   "source": [
    "from prettytable import PrettyTable\n",
    "table = PrettyTable()\n",
    "table.field_names = [\"Word\", \"Frequency/Size of vocabulory\"]\n",
    "for x,v in fDist_words.most_common(20):\n",
    "    table.add_row([x,v/len(fDist_words)])\n",
    "print(table)   \n",
    "    "
   ]
  },
  {
   "cell_type": "markdown",
   "metadata": {},
   "source": [
    "## Code example for TTR(Type Token Ratio)"
   ]
  },
  {
   "cell_type": "code",
   "execution_count": 18,
   "metadata": {},
   "outputs": [],
   "source": [
    "#taking two corpus from nltk 1.) bryant theoryu corpus and 2.) austen-emma corpus \n",
    "# don't get confused these are just name of some text data readily available in nltk\n",
    "\n",
    "words_bryant = nltk.Text(nltk.corpus.gutenberg.words('bryant-stories.txt'))\n",
    "\n",
    "words_emma = nltk.Text(nltk.corpus.gutenberg.words('austen-emma.txt'))"
   ]
  },
  {
   "cell_type": "code",
   "execution_count": 19,
   "metadata": {},
   "outputs": [],
   "source": [
    "# convert to lower case\n",
    "\n",
    "words_bryant = [word.lower() for word in words_bryant if word.isalpha()]\n",
    "\n",
    "words_emma = [word.lower() for word in words_emma if word.isalpha()]"
   ]
  },
  {
   "cell_type": "code",
   "execution_count": 20,
   "metadata": {},
   "outputs": [],
   "source": [
    "# removing the stop words \n",
    "\n",
    "# taking the first 20000 words\n",
    "\n",
    "words_bryant = [word.lower() for word in words_bryant if word not in stop_words][:20000]\n",
    "\n",
    "words_emma = [word.lower() for word in words_emma if word not in stop_words][:20000]"
   ]
  },
  {
   "cell_type": "markdown",
   "metadata": {},
   "source": [
    "### It is not reasonable to compare the TTR for two unequal sized documents hence we are taking the first first 20000 tokens for both the documents to get a standardized TTR."
   ]
  },
  {
   "cell_type": "code",
   "execution_count": 21,
   "metadata": {},
   "outputs": [],
   "source": [
    "TTR_bryant = len(set(words_bryant))/len(words_bryant)\n",
    "\n",
    "# number of unique words in our vocabolary/ total number of words in our vocabolary"
   ]
  },
  {
   "cell_type": "code",
   "execution_count": 22,
   "metadata": {},
   "outputs": [],
   "source": [
    "TTR_emma = len(set(words_emma))/len(words_emma)\n",
    "\n",
    "# number of unique words in our vocabolary/ total number of words in our vocabolary"
   ]
  },
  {
   "cell_type": "code",
   "execution_count": 23,
   "metadata": {},
   "outputs": [
    {
     "name": "stdout",
     "output_type": "stream",
     "text": [
      "Bryant Stories -  Number of tokens are  20000  Vocabolary Size is  3435 Type-Token Ratio is  0.17175\n"
     ]
    }
   ],
   "source": [
    "print(\"Bryant Stories - \",\"Number of tokens are \",len(words_bryant),\" Vocabolary Size is \",len(set(words_bryant)),\"Type-Token Ratio is \",TTR_bryant)"
   ]
  },
  {
   "cell_type": "code",
   "execution_count": 24,
   "metadata": {},
   "outputs": [
    {
     "name": "stdout",
     "output_type": "stream",
     "text": [
      "Austen emma -  Number of tokens are  20000  Vocabolary Size is  3786 Type-Token Ratio is  0.1893\n"
     ]
    }
   ],
   "source": [
    "print(\"Austen emma - \",\"Number of tokens are \",len(words_emma),\" Vocabolary Size is \",len(set(words_emma)),\"Type-Token Ratio is \",TTR_emma)"
   ]
  },
  {
   "cell_type": "markdown",
   "metadata": {},
   "source": [
    "### Hence we can say that Austen emma has used more vocabolary. TTR is useful for monitoring the vocabolary."
   ]
  },
  {
   "cell_type": "markdown",
   "metadata": {},
   "source": [
    "## Zipf's empirical law practically "
   ]
  },
  {
   "cell_type": "code",
   "execution_count": 25,
   "metadata": {},
   "outputs": [],
   "source": [
    "import re\n",
    "from operator import itemgetter\n",
    "import pandas as pd"
   ]
  },
  {
   "cell_type": "code",
   "execution_count": 26,
   "metadata": {},
   "outputs": [],
   "source": [
    "frequency = {}\n",
    "\n",
    "words_emma = nltk.Text(nltk.corpus.gutenberg.words('austen-emma.txt'))"
   ]
  },
  {
   "cell_type": "code",
   "execution_count": 27,
   "metadata": {},
   "outputs": [],
   "source": [
    "# getting the frequency of words in the corpus \n",
    "\n",
    "for word in words_emma:\n",
    "    # https://stackoverflow.com/questions/5235916/word-frequency-program-in-python\n",
    "    count = frequency.get(word,0)\n",
    "    frequency[word] = count + 1\n",
    "    \n",
    "rank = 1\n",
    "column_header = ['Rank','Frequency','Frequency*Rank']\n",
    "\n",
    "df = pd.DataFrame(columns = column_header)"
   ]
  },
  {
   "cell_type": "code",
   "execution_count": 28,
   "metadata": {},
   "outputs": [
    {
     "name": "stdout",
     "output_type": "stream",
     "text": [
      "                 Rank Frequency Frequency*Rank\n",
      ",                   1     11454          11454\n",
      ".                   2      6928          13856\n",
      "to                  3      5183          15549\n",
      "the                 4      4844          19376\n",
      "and                 5      4672          23360\n",
      "of                  6      4279          25674\n",
      "I                   7      3178          22246\n",
      "a                   8      3004          24032\n",
      "was                 9      2385          21465\n",
      "her                10      2381          23810\n",
      ";                  11      2199          24189\n",
      "it                 12      2128          25536\n",
      "in                 13      2118          27534\n",
      "not                14      2101          29414\n",
      "\"                  15      2004          30060\n",
      "be                 16      1970          31520\n",
      "she                17      1778          30226\n",
      "that               18      1730          31140\n",
      "you                19      1677          31863\n",
      "had                20      1606          32120\n",
      "as                 21      1387          29127\n",
      "--                 22      1382          30404\n",
      "he                 23      1365          31395\n",
      "for                24      1321          31704\n",
      "have               25      1301          32525\n",
      "is                 26      1220          31720\n",
      "with               27      1187          32049\n",
      "Mr                 28      1153          32284\n",
      "very               29      1151          33379\n",
      "but                30      1148          34440\n",
      "...               ...       ...            ...\n",
      "nobility         7782         1           7782\n",
      "liberally        7783         1           7783\n",
      "created          7784         1           7784\n",
      "gradual          7785         1           7785\n",
      "impair           7786         1           7786\n",
      "clergyman        7787         1           7787\n",
      "altar            7788         1           7788\n",
      "intermediate     7789         1           7789\n",
      "seaside          7790         1           7790\n",
      "sounded          7791         1           7791\n",
      "hopeless         7792         1           7792\n",
      "resignation      7793         1           7793\n",
      "acquiesced       7794         1           7794\n",
      "befriended       7795         1           7795\n",
      "illumination     7796         1           7796\n",
      "robbed           7797         1           7797\n",
      "turkeys          7798         1           7798\n",
      "Other            7799         1           7799\n",
      "Pilfering        7800         1           7800\n",
      "_housebreaking_  7801         1           7801\n",
      "protected        7802         1           7802\n",
      "weddings         7803         1           7803\n",
      "detailed         7804         1           7804\n",
      "satin            7805         1           7805\n",
      "veils            7806         1           7806\n",
      "stare            7807         1           7807\n",
      "deficiencies     7808         1           7808\n",
      "predictions      7809         1           7809\n",
      "band             7810         1           7810\n",
      "FINIS            7811         1           7811\n",
      "\n",
      "[7811 rows x 3 columns]\n"
     ]
    }
   ],
   "source": [
    "# that is just what operator.itemgetter(1) will give you: A function that grabs the first item from a list-like object.\n",
    "for word,freq in sorted(frequency.items(),key = itemgetter(1),reverse =True):\n",
    "    df.loc[word] = [rank,freq,rank*freq]\n",
    "    rank = rank + 1\n",
    "print(df)\n",
    "    "
   ]
  },
  {
   "cell_type": "code",
   "execution_count": 33,
   "metadata": {},
   "outputs": [
    {
     "data": {
      "text/plain": [
       "<matplotlib.axes._subplots.AxesSubplot at 0x20c1c3eef28>"
      ]
     },
     "execution_count": 33,
     "metadata": {},
     "output_type": "execute_result"
    },
    {
     "data": {
      "image/png": "[encoded data removed]",
      "text/plain": [
       "<Figure size 432x288 with 1 Axes>"
      ]
     },
     "metadata": {
      "needs_background": "light"
     },
     "output_type": "display_data"
    }
   ],
   "source": [
    "df.plot(x='Rank', y='Frequency')"
   ]
  },
  {
   "cell_type": "markdown",
   "metadata": {},
   "source": [
    "## We can clearly see from the graph above that frequency and rank are inversely proportional to each other for a word in the corpus."
   ]
  },
  {
   "cell_type": "code",
   "execution_count": null,
   "metadata": {},
   "outputs": [],
   "source": []
  }
 ],
 "metadata": {
  "kernelspec": {
   "display_name": "Python 3",
   "language": "python",
   "name": "python3"
  },
  "language_info": {
   "codemirror_mode": {
    "name": "ipython",
    "version": 3
   },
   "file_extension": ".py",
   "mimetype": "text/x-python",
   "name": "python",
   "nbconvert_exporter": "python",
   "pygments_lexer": "ipython3",
   "version": "3.7.3"
  }
 },
 "nbformat": 4,
 "nbformat_minor": 2
}
